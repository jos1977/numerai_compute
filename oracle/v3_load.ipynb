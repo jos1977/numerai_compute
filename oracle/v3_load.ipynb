{
 "cells": [
  {
   "cell_type": "code",
   "execution_count": null,
   "id": "0e803b93",
   "metadata": {},
   "outputs": [],
   "source": [
    "import pandas as pd\n",
    "import numpy as np\n",
    "import json\n",
    "import os\n",
    "import time\n",
    "from pathlib import Path\n",
    "import logging\n",
    "from numerapi import NumerAPI\n",
    "from utils import (\n",
    "    save_model,\n",
    "    load_model,\n",
    "    neutralize,\n",
    "    get_biggest_change_features,\n",
    "    validation_metrics,\n",
    "    ERA_COL,\n",
    "    DATA_TYPE_COL,\n",
    "    TARGET_COL,\n",
    "    EXAMPLE_PREDS_COL\n",
    ")\n",
    "\n",
    "\n",
    "napi = NumerAPI()"
   ]
  },
  {
   "cell_type": "code",
   "execution_count": null,
   "id": "80a2c893",
   "metadata": {},
   "outputs": [],
   "source": [
    "current_round = napi.get_current_round()\n",
    "previous_round = current_round - 1\n",
    "logging.info(\"Latest numerai dataset number is: %s'\", current_round)\n",
    "logging.info(\"Previous numerai dataset number is: %s'\", previous_round)"
   ]
  },
  {
   "cell_type": "code",
   "execution_count": null,
   "id": "4f1038bd",
   "metadata": {},
   "outputs": [],
   "source": [
    "previous_filename = \"v3/live_\" + str(previous_round) + \".parquet\"\n",
    "\n",
    "if(os.path.isfile(previous_filename)):\n",
    "    os.remove(previous_filename)\n",
    "    #Printing the confirmation message of deletion\n",
    "    print(\"File Deleted successfully\")\n",
    "else:\n",
    "    print(\"File does not exist\")"
   ]
  },
  {
   "cell_type": "code",
   "execution_count": null,
   "id": "cc11946f",
   "metadata": {},
   "outputs": [],
   "source": [
    "# Tournament data changes every week so we specify the round in their name. Training\n",
    "# and validation data only change periodically, so no need to download them every time.\n",
    "print('Downloading dataset files...')\n",
    "\n",
    "SRC = \"v3\"\n",
    "\n",
    "live_filename = \"v3/live_\" + str(current_round) + \".parquet\"\n",
    "\n",
    "Path(SRC).mkdir(parents=False, exist_ok=True)\n",
    "napi.download_dataset(\"v3/numerai_live_data.parquet\", live_filename)\n",
    "napi.download_dataset(\"v3/features.json\", \"v3/features.json\")"
   ]
  }
 ],
 "metadata": {
  "kernelspec": {
   "display_name": "azureml",
   "language": "python",
   "name": "azureml"
  },
  "language_info": {
   "codemirror_mode": {
    "name": "ipython",
    "version": 3
   },
   "file_extension": ".py",
   "mimetype": "text/x-python",
   "name": "python",
   "nbconvert_exporter": "python",
   "pygments_lexer": "ipython3",
   "version": "3.8.13"
  }
 },
 "nbformat": 4,
 "nbformat_minor": 5
}
